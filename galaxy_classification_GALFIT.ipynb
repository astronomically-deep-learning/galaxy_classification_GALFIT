{
 "cells": [
  {
   "cell_type": "markdown",
   "metadata": {},
   "source": [
    "# Galaxy classification\n",
    "This is a ML code that performs galaxy classification using user-defined labels from the Galaxy-Zoo (http://zoo1.galaxyzoo.org/) project. \n",
    "\n",
    "The steps are the following: <br>\n",
    "1. Import libraries and sample\n",
    "2. Split sub-samples (training, validation, testing)\n",
    "3. Fit with various classifier and check performance\n",
    "4. Compare various classifiers in testing sample"
   ]
  },
  {
   "cell_type": "code",
   "execution_count": 1,
   "metadata": {},
   "outputs": [],
   "source": [
    "# Importing Libraries\n",
    "import numpy as np\n",
    "import tensorflow as tf\n",
    "import matplotlib.pyplot as plt\n",
    "from sklearn import datasets, utils, metrics\n",
    "from sklearn.svm import LinearSVC\n",
    "from sklearn.linear_model import LogisticRegression\n",
    "from sklearn.neural_network import MLPClassifier\n",
    "from sklearn.ensemble import RandomForestClassifier\n",
    "\n",
    "import warnings\n",
    "warnings.simplefilter('ignore')"
   ]
  },
  {
   "cell_type": "code",
   "execution_count": 2,
   "metadata": {},
   "outputs": [],
   "source": [
    "path_to_data = \"/data/deep_learning/GALFIT_database/GALFIT_v1\""
   ]
  },
  {
   "cell_type": "code",
   "execution_count": 3,
   "metadata": {},
   "outputs": [],
   "source": [
    "# In this part we are going to upload the galaxy images. \n",
    "# For now I use a dataset of digits from scikit-learn\n",
    "# I plot some examples\n",
    "# digits = datasets.load_digits()\n",
    "# print(digits.images.reshape((len(digits.images), -1)))\n",
    "\n",
    "# images_and_labels = list(zip(digits.images, digits.target))\n",
    "# for index, (image, label) in enumerate(images_and_labels[:9]):\n",
    "#     plt.subplot(2, 9, index + 1)\n",
    "#     plt.axis('off')\n",
    "#     plt.imshow(image, cmap=plt.cm.gray_r, interpolation='nearest')\n",
    "#     plt.title('Training: %i' % label)"
   ]
  },
  {
   "cell_type": "code",
   "execution_count": 4,
   "metadata": {},
   "outputs": [
    {
     "data": {
      "image/png": "[encoded data removed]",
      "text/plain": [
       "<Figure size 432x288 with 10 Axes>"
      ]
     },
     "metadata": {},
     "output_type": "display_data"
    }
   ],
   "source": [
    "# Here we are going to use astropy to read fits images and convert them into \n",
    "# similar format matrices\n",
    "# you can also use np.matrix.flatten to flatten a matrix into a single line\n",
    "import glob\n",
    "files = glob.glob(path_to_data + \"/*.npy\")\n",
    "\n",
    "# remove:files = files[0:100]\n",
    "\n",
    "galaxies = np.array([np.load(i) for i in files])\n",
    "labels = [file.split(\"/\")[-1].split(\"_\")[0] for file in files]\n",
    "\n",
    "# Display some example images of galaxies\n",
    "images_and_labels = list(zip(galaxies, labels))\n",
    "for index, (image, label) in enumerate(images_and_labels[:10]):\n",
    "    plt.subplot(2, 5, index + 1)\n",
    "    plt.axis('off')\n",
    "    plt.imshow(image, cmap=plt.cm.gray_r, interpolation='nearest')\n",
    "    plt.title(label)\n",
    "\n",
    "# To apply a classifier on this data, we need to flatten the image, to\n",
    "# turn the data in a (samples, feature) matrix:\n",
    "n_samples = len(galaxies)\n",
    "data = galaxies.reshape((n_samples, -1))\n",
    "\n",
    "# Normalize values to maximum (and setting low values to 0)\n",
    "for i in range(len(data)):\n",
    "    data[i] = data[i] / max(data[i])\n",
    "\n",
    "# data[data < 0.001] = 0\n",
    "        \n",
    "# Shuffle the samples\n",
    "shuffled_indexes = np.arange(len(galaxies))\n",
    "np.random.shuffle(shuffled_indexes)\n",
    "\n",
    "data = data[shuffled_indexes]\n",
    "labels = list(np.array(labels)[shuffled_indexes])"
   ]
  },
  {
   "cell_type": "code",
   "execution_count": 5,
   "metadata": {},
   "outputs": [],
   "source": [
    "# Splitting in training, validation, and test samples\n",
    "data_train = data[:8 * n_samples // 10] # i.e. 80% training\n",
    "labels_train = labels[:8 * n_samples // 10]\n",
    "\n",
    "data_valid = data[8 * n_samples // 10:9 * n_samples // 10] # i.e. 10% validation (80->90%)\n",
    "labels_valid = labels[8 * n_samples // 10:9 * n_samples // 10]\n",
    "\n",
    "data_test = data[9 * n_samples // 10:] # i.e. 10% testing (90->100%)\n",
    "labels_test = labels[9 * n_samples // 10:]\n"
   ]
  },
  {
   "cell_type": "markdown",
   "metadata": {},
   "source": [
    "## 1) Using scikit-learn / SVM classifier\n",
    "We are going to test the performance of a classical Support Vector Machines classifier"
   ]
  },
  {
   "cell_type": "code",
   "execution_count": 6,
   "metadata": {},
   "outputs": [
    {
     "name": "stdout",
     "output_type": "stream",
     "text": [
      "Classification report for LinearSVC(C=1.0, class_weight=None, dual=True, fit_intercept=True,\n",
      "     intercept_scaling=1, loss='squared_hinge', max_iter=1000,\n",
      "     multi_class='ovr', penalty='l2', random_state=None, tol=0.0001,\n",
      "     verbose=0):\n",
      "             precision    recall  f1-score   support\n",
      "\n",
      "     ellipt       0.91      1.00      0.95       134\n",
      "     spiral       1.00      0.96      0.98       366\n",
      "\n",
      "avg / total       0.98      0.97      0.97       500\n",
      "\n",
      "\n",
      "Confusion matrix:\n",
      "[[134   0]\n",
      " [ 13 353]]\n"
     ]
    }
   ],
   "source": [
    "# Classifier\n",
    "model_svc = LinearSVC()\n",
    "model_svc.fit(data_train, labels_train)\n",
    "\n",
    "# Comparisong with prediction\n",
    "predicted = model_svc.predict(data_valid)\n",
    "\n",
    "print(\"Classification report for %s:\\n%s\\n\"\n",
    "      % (model_svc, metrics.classification_report(labels_valid, predicted)))\n",
    "print(\"Confusion matrix:\\n%s\" % metrics.confusion_matrix(labels_valid, predicted))"
   ]
  },
  {
   "cell_type": "markdown",
   "metadata": {},
   "source": [
    "## 2) Using scikit-learn / LogisticRegression classifier"
   ]
  },
  {
   "cell_type": "code",
   "execution_count": 7,
   "metadata": {},
   "outputs": [
    {
     "name": "stdout",
     "output_type": "stream",
     "text": [
      "Classification report for LogisticRegression(C=1.0, class_weight=None, dual=False, fit_intercept=True,\n",
      "          intercept_scaling=1, max_iter=100, multi_class='ovr', n_jobs=1,\n",
      "          penalty='l2', random_state=None, solver='liblinear', tol=0.0001,\n",
      "          verbose=0, warm_start=False):\n",
      "             precision    recall  f1-score   support\n",
      "\n",
      "     ellipt       0.91      1.00      0.95       134\n",
      "     spiral       1.00      0.96      0.98       366\n",
      "\n",
      "avg / total       0.98      0.97      0.97       500\n",
      "\n",
      "\n",
      "Confusion matrix:\n",
      "[[134   0]\n",
      " [ 13 353]]\n"
     ]
    }
   ],
   "source": [
    "# Classifier\n",
    "model_lrc = LogisticRegression()\n",
    "model_lrc.fit(data_train, labels_train)\n",
    "\n",
    "# Comparisong with prediction\n",
    "predicted = model_svc.predict(data_valid)\n",
    "\n",
    "print(\"Classification report for %s:\\n%s\\n\"\n",
    "      % (model_lrc, metrics.classification_report(labels_valid, predicted)))\n",
    "print(\"Confusion matrix:\\n%s\" % metrics.confusion_matrix(labels_valid, predicted))"
   ]
  },
  {
   "cell_type": "markdown",
   "metadata": {},
   "source": [
    "## 3) Using scikit-learn / Multilayer perceptron classifier\n",
    "We are going to use a simple Neural Network (Multilayer perceptron) classifier."
   ]
  },
  {
   "cell_type": "code",
   "execution_count": 8,
   "metadata": {},
   "outputs": [
    {
     "name": "stdout",
     "output_type": "stream",
     "text": [
      "Classification report for MLPClassifier(activation='relu', alpha=0.0001, batch_size='auto', beta_1=0.9,\n",
      "       beta_2=0.999, early_stopping=False, epsilon=1e-08,\n",
      "       hidden_layer_sizes=(100,), learning_rate='constant',\n",
      "       learning_rate_init=0.001, max_iter=200, momentum=0.9,\n",
      "       nesterovs_momentum=True, power_t=0.5, random_state=None,\n",
      "       shuffle=True, solver='adam', tol=0.0001, validation_fraction=0.1,\n",
      "       verbose=False, warm_start=False):\n",
      "             precision    recall  f1-score   support\n",
      "\n",
      "     ellipt       0.90      0.90      0.90       134\n",
      "     spiral       0.96      0.96      0.96       366\n",
      "\n",
      "avg / total       0.95      0.95      0.95       500\n",
      "\n",
      "\n",
      "Confusion matrix:\n",
      "[[120  14]\n",
      " [ 13 353]]\n"
     ]
    }
   ],
   "source": [
    "# Classifier\n",
    "model_MLP = MLPClassifier()\n",
    "model_MLP.fit(data_train, labels_train)\n",
    "\n",
    "# Comparisong with prediction\n",
    "predicted = model_MLP.predict(data_valid)\n",
    "\n",
    "print(\"Classification report for %s:\\n%s\\n\"\n",
    "      % (model_MLP, metrics.classification_report(labels_valid, predicted)))\n",
    "print(\"Confusion matrix:\\n%s\" % metrics.confusion_matrix(labels_valid, predicted))"
   ]
  },
  {
   "cell_type": "markdown",
   "metadata": {},
   "source": [
    "## 4) Using scikit learn / Random Forests\n",
    "We are using a a scikit-learn bagging classifier."
   ]
  },
  {
   "cell_type": "code",
   "execution_count": 9,
   "metadata": {},
   "outputs": [
    {
     "name": "stdout",
     "output_type": "stream",
     "text": [
      "Classification report for RandomForestClassifier(bootstrap=True, class_weight=None, criterion='gini',\n",
      "            max_depth=None, max_features='auto', max_leaf_nodes=None,\n",
      "            min_impurity_decrease=0.0, min_impurity_split=None,\n",
      "            min_samples_leaf=1, min_samples_split=2,\n",
      "            min_weight_fraction_leaf=0.0, n_estimators=10, n_jobs=1,\n",
      "            oob_score=False, random_state=None, verbose=0,\n",
      "            warm_start=False):\n",
      "             precision    recall  f1-score   support\n",
      "\n",
      "     ellipt       0.99      0.99      0.99       134\n",
      "     spiral       1.00      0.99      1.00       366\n",
      "\n",
      "avg / total       0.99      0.99      0.99       500\n",
      "\n",
      "\n",
      "Confusion matrix:\n",
      "[[133   1]\n",
      " [  2 364]]\n"
     ]
    }
   ],
   "source": [
    "# Classifier\n",
    "model_RF = RandomForestClassifier()\n",
    "model_RF.fit(data_train, labels_train)\n",
    "\n",
    "# Comparisong with prediction\n",
    "predicted = model_RF.predict(data_valid)\n",
    "\n",
    "print(\"Classification report for %s:\\n%s\\n\"\n",
    "      % (model_RF, metrics.classification_report(labels_valid, predicted)))\n",
    "print(\"Confusion matrix:\\n%s\" % metrics.confusion_matrix(labels_valid, predicted))"
   ]
  },
  {
   "cell_type": "markdown",
   "metadata": {},
   "source": [
    "## 4) Using Keras simple Neural Network classifier\n",
    "We are using a simple multilayer perceptron classifier."
   ]
  },
  {
   "cell_type": "code",
   "execution_count": 10,
   "metadata": {},
   "outputs": [
    {
     "name": "stderr",
     "output_type": "stream",
     "text": [
      "Using TensorFlow backend.\n"
     ]
    }
   ],
   "source": [
    "from keras.models import Sequential\n",
    "from keras.layers import Dense\n",
    "from keras.utils import np_utils\n",
    "from keras import regularizers\n",
    "from keras import optimizers\n",
    "from sklearn.preprocessing import OneHotEncoder\n",
    "from sklearn.preprocessing import LabelEncoder"
   ]
  },
  {
   "cell_type": "code",
   "execution_count": 11,
   "metadata": {},
   "outputs": [],
   "source": [
    "# Normalizing data to 0-1 range\n",
    "# data = data / np.max(data[:])\n",
    "\n",
    "num_pixels = data_train.shape[1] \n",
    "\n",
    "# It is good practice to use a one hot encoding \n",
    "# of the class values (ellip, spiral), to tranform\n",
    "# the vector of class integers into a binary matrix.\n",
    "int_enc = LabelEncoder()\n",
    "labels_train_int = int_enc.fit_transform(labels_train)\n",
    "labels_valid_int = int_enc.fit_transform(labels_valid)\n",
    "labels_test_int = int_enc.fit_transform(labels_test)\n",
    "\n",
    "oh_enc = OneHotEncoder(sparse=False)\n",
    "labels_train_int = labels_train_int.reshape(len(labels_train_int), 1)\n",
    "labels_train_ohe = oh_enc.fit_transform(labels_train_int)\n",
    "labels_valid_int = labels_valid_int.reshape(len(labels_valid_int), 1)\n",
    "labels_valid_ohe = oh_enc.fit_transform(labels_valid_int)\n",
    "labels_test_int = labels_test_int.reshape(len(labels_test_int), 1)\n",
    "labels_test_ohe = oh_enc.fit_transform(labels_test_int)\n",
    "\n",
    "# uniques, labels_valid = np.unique(labels_valid, return_inverse=True)\n",
    "# labels_train_cat = np_utils.to_categorical(labels_train)\n",
    "# labels_valid_cat = np_utils.to_categorical(labels_valid)\n",
    "num_classes = labels_valid_ohe.shape[1]"
   ]
  },
  {
   "cell_type": "code",
   "execution_count": 12,
   "metadata": {},
   "outputs": [],
   "source": [
    "# Define the model\n",
    "def baseline_model():\n",
    "    # create model\n",
    "    sgd = optimizers.SGD(lr=0.1)\n",
    "    model_Ker = Sequential()\n",
    "    model_Ker.add(Dense(num_pixels // 3, input_dim=num_pixels, kernel_initializer='normal',activation='relu'))\n",
    "    #model_Ker.add(Dense(num_pixels // 5, input_dim=num_pixels, kernel_initializer='normal',activation='relu'))\n",
    "    model_Ker.add(Dense(num_classes, kernel_initializer='normal', activation='softmax'))#,\n",
    "                                          #kernel_regularizer=regularizers.l1(0.1)))\n",
    "    # Compile model\n",
    "    model_Ker.compile(loss='mean_squared_error', optimizer=sgd, metrics=['accuracy'])\n",
    "    return model_Ker\n",
    "\n",
    "# Build the model\n",
    "model_Ker = baseline_model()"
   ]
  },
  {
   "cell_type": "code",
   "execution_count": 13,
   "metadata": {},
   "outputs": [
    {
     "name": "stdout",
     "output_type": "stream",
     "text": [
      "Train on 4000 samples, validate on 500 samples\n",
      "Epoch 1/10\n",
      " - 153s - loss: 0.0554 - acc: 0.9427 - val_loss: 0.0252 - val_acc: 0.9700\n",
      "Epoch 2/10\n",
      " - 152s - loss: 0.0167 - acc: 0.9880 - val_loss: 0.0171 - val_acc: 0.9960\n",
      "Epoch 3/10\n",
      " - 151s - loss: 0.0103 - acc: 0.9947 - val_loss: 0.0141 - val_acc: 0.9880\n",
      "Epoch 4/10\n",
      " - 151s - loss: 0.0070 - acc: 0.9975 - val_loss: 0.0134 - val_acc: 0.9860\n",
      "Epoch 5/10\n",
      " - 151s - loss: 0.0051 - acc: 0.9985 - val_loss: 0.0133 - val_acc: 0.9860\n",
      "Epoch 6/10\n",
      " - 151s - loss: 0.0039 - acc: 0.9990 - val_loss: 0.0126 - val_acc: 0.9860\n",
      "Epoch 7/10\n",
      " - 151s - loss: 0.0031 - acc: 0.9997 - val_loss: 0.0123 - val_acc: 0.9860\n",
      "Epoch 8/10\n",
      " - 153s - loss: 0.0025 - acc: 0.9997 - val_loss: 0.0130 - val_acc: 0.9840\n",
      "Epoch 9/10\n",
      " - 156s - loss: 0.0021 - acc: 0.9997 - val_loss: 0.0119 - val_acc: 0.9860\n",
      "Epoch 10/10\n",
      " - 156s - loss: 0.0019 - acc: 0.9997 - val_loss: 0.0124 - val_acc: 0.9860\n"
     ]
    }
   ],
   "source": [
    "# Fit the model\n",
    "\n",
    "# small sample run:\n",
    "history = model_Ker.fit(data_train, labels_train_ohe, validation_data=(data_valid, labels_valid_ohe), \n",
    "                                            epochs=10, batch_size=10, verbose=2)\n",
    "\n",
    "# full sample run:\n",
    "#history = model_Ker.fit(data_train, labels_train_ohe, validation_data=(data_valid, labels_valid_ohe), \n",
    "#                                            epochs=10, batch_size=100, verbose=2)\n",
    "\n",
    "# Comparisong with prediction\n",
    "predicted = model_Ker.predict(data_valid)"
   ]
  },
  {
   "cell_type": "code",
   "execution_count": 14,
   "metadata": {},
   "outputs": [
    {
     "name": "stdout",
     "output_type": "stream",
     "text": [
      "Classification report for <keras.engine.sequential.Sequential object at 0x7f8030e3f160>:\n",
      "             precision    recall  f1-score   support\n",
      "\n",
      "     ellipt       0.95      1.00      0.97       134\n",
      "     spiral       1.00      0.98      0.99       366\n",
      "\n",
      "avg / total       0.99      0.99      0.99       500\n",
      "\n",
      "\n",
      "Confusion matrix:\n",
      "[[134   0]\n",
      " [  7 359]]\n"
     ]
    },
    {
     "data": {
      "image/png": "[encoded data removed]",
      "text/plain": [
       "<Figure size 432x288 with 1 Axes>"
      ]
     },
     "metadata": {},
     "output_type": "display_data"
    }
   ],
   "source": [
    "# Reverse one hot encoding\n",
    "pred = int_enc.inverse_transform(predicted.argmax(1))\n",
    "\n",
    "print(\"Classification report for %s:\\n%s\\n\"\n",
    "      % (model_Ker, metrics.classification_report(labels_valid, pred)))\n",
    "print(\"Confusion matrix:\\n%s\" % metrics.confusion_matrix(labels_valid, pred))\n",
    "\n",
    "\n",
    "plt.plot(history.history['loss'])\n",
    "plt.plot(history.history['val_loss'])\n",
    "plt.title('model train vs validation loss')\n",
    "plt.ylabel('loss')\n",
    "plt.xlabel('epoch')\n",
    "plt.legend(['train', 'validation'], loc='upper right')\n",
    "plt.show()"
   ]
  },
  {
   "cell_type": "markdown",
   "metadata": {},
   "source": [
    "https://machinelearningmastery.com/handwritten-digit-recognition-using-convolutional-neural-networks-python-keras/\n",
    "\n",
    "## 5) Using Tensorflow\n",
    "https://github.com/aymericdamien/TensorFlow-Examples/blob/master/notebooks/3_NeuralNetworks/neural_network_raw.ipynb\n",
    "\n",
    "https://github.com/aymericdamien/TensorFlow-Examples/blob/master/notebooks/3_NeuralNetworks/neural_network.ipynb"
   ]
  },
  {
   "cell_type": "markdown",
   "metadata": {},
   "source": [
    "## Final check \n",
    "Here we are using the test sample for a final check of the various algorithms used above. We check if their performance is as good as it is reported in the validation process."
   ]
  },
  {
   "cell_type": "code",
   "execution_count": 15,
   "metadata": {},
   "outputs": [
    {
     "name": "stdout",
     "output_type": "stream",
     "text": [
      "====================================================================================\n",
      "Classification report for LinearSVC(C=1.0, class_weight=None, dual=True, fit_intercept=True,\n",
      "     intercept_scaling=1, loss='squared_hinge', max_iter=1000,\n",
      "     multi_class='ovr', penalty='l2', random_state=None, tol=0.0001,\n",
      "     verbose=0):\n",
      "             precision    recall  f1-score   support\n",
      "\n",
      "     ellipt       0.95      1.00      0.97       152\n",
      "     spiral       1.00      0.98      0.99       348\n",
      "\n",
      "avg / total       0.98      0.98      0.98       500\n",
      "\n",
      "\n",
      "Confusion matrix:\n",
      "[[152   0]\n",
      " [  8 340]] \n",
      "\n",
      "====================================================================================\n",
      "Classification report for LogisticRegression(C=1.0, class_weight=None, dual=False, fit_intercept=True,\n",
      "          intercept_scaling=1, max_iter=100, multi_class='ovr', n_jobs=1,\n",
      "          penalty='l2', random_state=None, solver='liblinear', tol=0.0001,\n",
      "          verbose=0, warm_start=False):\n",
      "             precision    recall  f1-score   support\n",
      "\n",
      "     ellipt       0.95      1.00      0.97       152\n",
      "     spiral       1.00      0.98      0.99       348\n",
      "\n",
      "avg / total       0.98      0.98      0.98       500\n",
      "\n",
      "\n",
      "Confusion matrix:\n",
      "[[152   0]\n",
      " [  8 340]] \n",
      "\n",
      "====================================================================================\n",
      "Classification report for MLPClassifier(activation='relu', alpha=0.0001, batch_size='auto', beta_1=0.9,\n",
      "       beta_2=0.999, early_stopping=False, epsilon=1e-08,\n",
      "       hidden_layer_sizes=(100,), learning_rate='constant',\n",
      "       learning_rate_init=0.001, max_iter=200, momentum=0.9,\n",
      "       nesterovs_momentum=True, power_t=0.5, random_state=None,\n",
      "       shuffle=True, solver='adam', tol=0.0001, validation_fraction=0.1,\n",
      "       verbose=False, warm_start=False):\n",
      "             precision    recall  f1-score   support\n",
      "\n",
      "     ellipt       0.97      0.95      0.96       152\n",
      "     spiral       0.98      0.99      0.98       348\n",
      "\n",
      "avg / total       0.98      0.98      0.98       500\n",
      "\n",
      "\n",
      "Confusion matrix:\n",
      "[[145   7]\n",
      " [  5 343]] \n",
      "\n",
      "====================================================================================\n",
      "Classification report for RandomForestClassifier(bootstrap=True, class_weight=None, criterion='gini',\n",
      "            max_depth=None, max_features='auto', max_leaf_nodes=None,\n",
      "            min_impurity_decrease=0.0, min_impurity_split=None,\n",
      "            min_samples_leaf=1, min_samples_split=2,\n",
      "            min_weight_fraction_leaf=0.0, n_estimators=10, n_jobs=1,\n",
      "            oob_score=False, random_state=None, verbose=0,\n",
      "            warm_start=False):\n",
      "             precision    recall  f1-score   support\n",
      "\n",
      "     ellipt       0.99      0.99      0.99       152\n",
      "     spiral       0.99      0.99      0.99       348\n",
      "\n",
      "avg / total       0.99      0.99      0.99       500\n",
      "\n",
      "\n",
      "Confusion matrix:\n",
      "[[150   2]\n",
      " [  2 346]] \n",
      "\n",
      "====================================================================================\n",
      "Classification report for <keras.engine.sequential.Sequential object at 0x7f8030e3f160>:\n",
      "             precision    recall  f1-score   support\n",
      "\n",
      "     ellipt       0.97      1.00      0.98       152\n",
      "     spiral       1.00      0.99      0.99       348\n",
      "\n",
      "avg / total       0.99      0.99      0.99       500\n",
      "\n",
      "\n",
      "Confusion matrix:\n",
      "[[152   0]\n",
      " [  5 343]] \n",
      "\n",
      "====================================================================================\n"
     ]
    }
   ],
   "source": [
    "print(\"====================================================================================\")\n",
    "# Predictions for SVM\n",
    "predicted = model_svc.predict(data_test)\n",
    "print(\"Classification report for %s:\\n%s\\n\"\n",
    "      % (model_svc, metrics.classification_report(labels_test, predicted)))\n",
    "print(\"Confusion matrix:\\n%s \\n\" % metrics.confusion_matrix(labels_test, predicted))\n",
    "print(\"====================================================================================\")\n",
    "\n",
    "# Predictions for LogisticRegression\n",
    "predicted = model_svc.predict(data_test)\n",
    "print(\"Classification report for %s:\\n%s\\n\"\n",
    "      % (model_lrc, metrics.classification_report(labels_test, predicted)))\n",
    "print(\"Confusion matrix:\\n%s \\n\" % metrics.confusion_matrix(labels_test, predicted))\n",
    "print(\"====================================================================================\")\n",
    "\n",
    "# Predictions for MLP\n",
    "predicted = model_MLP.predict(data_test)\n",
    "print(\"Classification report for %s:\\n%s\\n\"\n",
    "      % (model_MLP, metrics.classification_report(labels_test, predicted)))\n",
    "print(\"Confusion matrix:\\n%s \\n\" % metrics.confusion_matrix(labels_test, predicted))\n",
    "print(\"====================================================================================\")\n",
    "\n",
    "# Predictions for RandomForests\n",
    "predicted = model_RF.predict(data_test)\n",
    "print(\"Classification report for %s:\\n%s\\n\"\n",
    "      % (model_RF, metrics.classification_report(labels_test, predicted)))\n",
    "print(\"Confusion matrix:\\n%s \\n\" % metrics.confusion_matrix(labels_test, predicted))\n",
    "print(\"====================================================================================\")\n",
    "\n",
    "# Predictions for Keras Neural Network\n",
    "predicted = model_Ker.predict(data_test)\n",
    "pred = int_enc.inverse_transform(predicted.argmax(1))\n",
    "print(\"Classification report for %s:\\n%s\\n\"\n",
    "      % (model_Ker, metrics.classification_report(labels_test, pred)))\n",
    "print(\"Confusion matrix:\\n%s \\n\" % metrics.confusion_matrix(labels_test, pred))\n",
    "print(\"====================================================================================\")"
   ]
  },
  {
   "cell_type": "code",
   "execution_count": null,
   "metadata": {},
   "outputs": [],
   "source": []
  }
 ],
 "metadata": {
  "kernelspec": {
   "display_name": "Python 3",
   "language": "python",
   "name": "python3"
  },
  "language_info": {
   "codemirror_mode": {
    "name": "ipython",
    "version": 3
   },
   "file_extension": ".py",
   "mimetype": "text/x-python",
   "name": "python",
   "nbconvert_exporter": "python",
   "pygments_lexer": "ipython3",
   "version": "3.4.3+"
  }
 },
 "nbformat": 4,
 "nbformat_minor": 2
}
